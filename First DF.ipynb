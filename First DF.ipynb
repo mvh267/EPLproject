{
 "cells": [
  {
   "cell_type": "code",
   "execution_count": 34,
   "metadata": {},
   "outputs": [],
   "source": [
    "import pandas as pd\n",
    "import os"
   ]
  },
  {
   "cell_type": "code",
   "execution_count": 35,
   "metadata": {},
   "outputs": [],
   "source": [
    "directory = '../Resources/Season Results/'"
   ]
  },
  {
   "cell_type": "code",
   "execution_count": 36,
   "metadata": {},
   "outputs": [
    {
     "name": "stdout",
     "output_type": "stream",
     "text": [
      "  Div      Date     HomeTeam        AwayTeam  FTHG  FTAG FTR  HTHG  HTAG  HTR  \\\n",
      "0  E0  14/08/93      Arsenal        Coventry     0     3   A   NaN   NaN  NaN   \n",
      "1  E0  14/08/93  Aston Villa             QPR     4     1   H   NaN   NaN  NaN   \n",
      "2  E0  14/08/93      Chelsea       Blackburn     1     2   A   NaN   NaN  NaN   \n",
      "3  E0  14/08/93    Liverpool  Sheffield Weds     2     0   H   NaN   NaN  NaN   \n",
      "4  E0  14/08/93     Man City           Leeds     1     1   D   NaN   NaN  NaN   \n",
      "\n",
      "   ...  AvgC<2.5 AHCh  B365CAHH  B365CAHA  PCAHH  PCAHA  MaxCAHH  MaxCAHA  \\\n",
      "0  ...       NaN  NaN       NaN       NaN    NaN    NaN      NaN      NaN   \n",
      "1  ...       NaN  NaN       NaN       NaN    NaN    NaN      NaN      NaN   \n",
      "2  ...       NaN  NaN       NaN       NaN    NaN    NaN      NaN      NaN   \n",
      "3  ...       NaN  NaN       NaN       NaN    NaN    NaN      NaN      NaN   \n",
      "4  ...       NaN  NaN       NaN       NaN    NaN    NaN      NaN      NaN   \n",
      "\n",
      "   AvgCAHH  AvgCAHA  \n",
      "0      NaN      NaN  \n",
      "1      NaN      NaN  \n",
      "2      NaN      NaN  \n",
      "3      NaN      NaN  \n",
      "4      NaN      NaN  \n",
      "\n",
      "[5 rows x 161 columns]\n"
     ]
    }
   ],
   "source": [
    "# Initialize an empty list to store the DataFrames\n",
    "dataframes = []\n",
    "\n",
    "# Function to try reading a CSV file with different encodings\n",
    "def read_csv_with_encoding(file_path):\n",
    "    encodings = ['utf-8', 'ISO-8859-1', 'cp1252']  # Common encodings\n",
    "    for encoding in encodings:\n",
    "        try:\n",
    "            return pd.read_csv(file_path, encoding=encoding)\n",
    "        except UnicodeDecodeError:\n",
    "            continue\n",
    "    raise ValueError(f'Unable to read file {file_path} with any of the provided encodings.')\n",
    "\n",
    "# Iterate through each file in the directory\n",
    "for filename in os.listdir(directory):\n",
    "    if filename.endswith('.csv'):\n",
    "        # Construct the full file path\n",
    "        file_path = os.path.join(directory, filename)\n",
    "\n",
    "        # Try reading the CSV file with different encodings\n",
    "        df = read_csv_with_encoding(file_path)\n",
    "\n",
    "        # Add the DataFrame to the list\n",
    "        dataframes.append(df)\n",
    "\n",
    "# Concatenate all DataFrames in the list\n",
    "combined_df = pd.concat(dataframes, ignore_index=True)\n",
    "\n",
    "# Display the first few rows of the combined DataFrame\n",
    "print(combined_df.head())\n"
   ]
  },
  {
   "cell_type": "code",
   "execution_count": 38,
   "metadata": {},
   "outputs": [
    {
     "name": "stdout",
     "output_type": "stream",
     "text": [
      "      Div        Date     HomeTeam     AwayTeam  FTHG  FTAG FTR  HTHG  HTAG  \\\n",
      "11559  E0  28/05/2023      Everton  Bournemouth     1     0   H   0.0   0.0   \n",
      "11560  E0  28/05/2023        Leeds    Tottenham     1     4   A   0.0   1.0   \n",
      "11561  E0  28/05/2023    Leicester     West Ham     2     1   H   1.0   0.0   \n",
      "11562  E0  28/05/2023   Man United       Fulham     2     1   H   1.0   1.0   \n",
      "11563  E0  28/05/2023  Southampton    Liverpool     4     4   D   2.0   2.0   \n",
      "\n",
      "      HTR  ...  AvgC<2.5  AHCh  B365CAHH  B365CAHA  PCAHH  PCAHA  MaxCAHH  \\\n",
      "11559   D  ...      2.14 -1.00      2.02      1.77   2.10   1.81     2.17   \n",
      "11560   A  ...      2.50  0.25      1.84      2.06   1.83   2.10     1.90   \n",
      "11561   H  ...      2.51 -0.25      1.75      2.05   1.85   2.06     1.90   \n",
      "11562   D  ...      2.95 -1.25      1.98      1.92   1.98   1.93     2.07   \n",
      "11563   D  ...      3.22  1.25      1.82      2.08   1.85   2.07     1.96   \n",
      "\n",
      "       MaxCAHA  AvgCAHH  AvgCAHA  \n",
      "11559     1.92     2.03     1.83  \n",
      "11560     2.14     1.81     2.06  \n",
      "11561     2.16     1.82     2.04  \n",
      "11562     1.98     1.97     1.89  \n",
      "11563     2.12     1.88     1.98  \n",
      "\n",
      "[5 rows x 161 columns]\n"
     ]
    }
   ],
   "source": [
    "print(combined_df.tail())"
   ]
  }
 ],
 "metadata": {
  "kernelspec": {
   "display_name": "dev",
   "language": "python",
   "name": "python3"
  },
  "language_info": {
   "codemirror_mode": {
    "name": "ipython",
    "version": 3
   },
   "file_extension": ".py",
   "mimetype": "text/x-python",
   "name": "python",
   "nbconvert_exporter": "python",
   "pygments_lexer": "ipython3",
   "version": "3.10.13"
  }
 },
 "nbformat": 4,
 "nbformat_minor": 2
}
